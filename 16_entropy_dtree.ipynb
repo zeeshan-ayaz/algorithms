{
 "cells": [
  {
   "cell_type": "code",
   "execution_count": 1,
   "metadata": {},
   "outputs": [],
   "source": [
    "import math"
   ]
  },
  {
   "cell_type": "code",
   "execution_count": 3,
   "metadata": {},
   "outputs": [],
   "source": [
    "# example dataset\n",
    "# let's say we have a dataset with two classes, A and B \n",
    "# Supposein a dataset of 10 elements, 4 are of class A and 6 are of class B \n",
    "\n",
    "# Number of elements in each class\n",
    "\n",
    "n_A = 4\n",
    "n_B = 6\n",
    "total = n_A + n_B"
   ]
  },
  {
   "cell_type": "code",
   "execution_count": 4,
   "metadata": {},
   "outputs": [
    {
     "name": "stdout",
     "output_type": "stream",
     "text": [
      "Proportions of A: 0.4\n",
      "Proportions of B: 0.6\n"
     ]
    }
   ],
   "source": [
    "# let's calcualte the proportions \n",
    "p_A = n_A / total\n",
    "p_B = n_B / total\n",
    "\n",
    "#print the proportins\n",
    "print(\"Proportions of A:\", p_A)\n",
    "print(\"Proportions of B:\", p_B)\n"
   ]
  },
  {
   "cell_type": "code",
   "execution_count": 5,
   "metadata": {},
   "outputs": [
    {
     "name": "stdout",
     "output_type": "stream",
     "text": [
      "0.9709505944546686\n"
     ]
    }
   ],
   "source": [
    "# calculate entropy\n",
    "entropy = -p_A *math.log2(p_A) - p_B * math.log2(p_B)\n",
    "print(entropy)"
   ]
  },
  {
   "cell_type": "markdown",
   "metadata": {},
   "source": [
    "# Gini imuprity"
   ]
  },
  {
   "cell_type": "code",
   "execution_count": 6,
   "metadata": {},
   "outputs": [
    {
     "name": "stdout",
     "output_type": "stream",
     "text": [
      "Gini impurity:  0.48\n"
     ]
    }
   ],
   "source": [
    "# gini impurtiy\n",
    "# gini impurity is a measure of misclassification\n",
    "\n",
    "gini = 1- p_A**2 - p_B**2\n",
    "print(\"Gini impurity: \", gini)"
   ]
  },
  {
   "cell_type": "markdown",
   "metadata": {},
   "source": [
    "# information Gain"
   ]
  },
  {
   "cell_type": "code",
   "execution_count": 7,
   "metadata": {},
   "outputs": [
    {
     "name": "stdout",
     "output_type": "stream",
     "text": [
      "information gain:  0.0464393446710154\n"
     ]
    }
   ],
   "source": [
    "# assuming a split on some feature divides the dataset into two subsets\n",
    "# subset 1: 2 elements of A, 3 0f B\n",
    "# subset 2: 2 elements of A, 3 of B\n",
    "# Entropy and size for each subset\n",
    "n_1_A, n_1_B = 1, 3\n",
    "n_2_A, n_2_B = 3, 3\n",
    "\n",
    "p_1_A = n_1_A / (n_1_A + n_1_B)\n",
    "P_1_B = n_1_B / (n_1_A + n_1_B)\n",
    "entropy_1 = -p_1_A *math.log2(p_1_A) - P_1_B *math.log2(P_1_B) if p_1_A and P_1_B else 0\n",
    "\n",
    "p_2_A = n_2_A / (n_2_A + n_2_B)\n",
    "P_2_B = n_2_B / (n_2_A + n_2_B)\n",
    "entropy_2 = -p_2_A *math.log2(p_2_A) - P_2_B *math.log2(P_2_B) if p_2_A and P_2_B else 0\n",
    "\n",
    "# calculating information gain\n",
    "\n",
    "info_gain = entropy - ((n_1_A + n_1_B)/ total * entropy_1 + (n_2_A + n_2_B)/ total * entropy_2)\n",
    "\n",
    "print(\"information gain: \", info_gain)"
   ]
  },
  {
   "cell_type": "code",
   "execution_count": null,
   "metadata": {},
   "outputs": [],
   "source": []
  }
 ],
 "metadata": {
  "kernelspec": {
   "display_name": "Python 3",
   "language": "python",
   "name": "python3"
  },
  "language_info": {
   "codemirror_mode": {
    "name": "ipython",
    "version": 3
   },
   "file_extension": ".py",
   "mimetype": "text/x-python",
   "name": "python",
   "nbconvert_exporter": "python",
   "pygments_lexer": "ipython3",
   "version": "3.10.11"
  }
 },
 "nbformat": 4,
 "nbformat_minor": 2
}
