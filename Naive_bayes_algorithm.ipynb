{
 "cells": [
  {
   "cell_type": "markdown",
   "metadata": {},
   "source": [
    "# **Naive Bayes Algorithm (NB)**\n",
    "\n",
    "## What is it?\n",
    "\n",
    " * Simple but surprisingly powerful algorithms for predictive modeling and machine learning.\n",
    " * Based on **Bayes' Theorem**\n",
    " * Particulary useful in classification task\n",
    "   * Text classification tasks such as spam filtering\n",
    "   * sentiment analysis\n",
    "  \n",
    " \n",
    " "
   ]
  },
  {
   "cell_type": "code",
   "execution_count": null,
   "metadata": {},
   "outputs": [],
   "source": []
  }
 ],
 "metadata": {
  "language_info": {
   "name": "python"
  }
 },
 "nbformat": 4,
 "nbformat_minor": 2
}
