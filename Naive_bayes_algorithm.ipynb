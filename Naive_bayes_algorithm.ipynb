{
 "cells": [
  {
   "cell_type": "markdown",
   "metadata": {},
   "source": [
    "# **Naive Bayes Algorithm (NB)**\n",
    "\n",
    "## What is it?\n",
    "\n",
    " * Simple but surprisingly powerful algorithms for predictive modeling and machine learning.\n",
    " * Based on **Bayes' Theorem**\n",
    " * Particulary useful in classification task\n",
    "   * Text classification tasks such as spam filtering\n",
    "   * sentiment analysis\n",
    "  \n",
    " * Naive Bayes is a probabilistic machine learning model that is used for classification tasks.\n",
    "  it's based on Bayes' theorem, which describes the probability of an event based on prior knowledge of conditions related to the event.\n",
    "\n",
    "  The 'naive' aspect of the algorithm comes from the assumption that the features used to predict the target variable are independent of each other.\n",
    "\n",
    "**Mathematicaly**\n",
    "\n",
    "    P(A|B) = P(B|A)*P(A)\n",
    "                P(B)\n",
    "\n",
    "    Where\n",
    "\n",
    "  * P(A|B) is the probability of hypothesis A give the data B.\n",
    "  * P(B|A) is the probability of the data B given that the hypothesis A is true.\n",
    "  * P(A) is the probability of hypothesis A being true (regardless of the data).\n",
    "  * P(B) is the probability of the data (regardless of the hypothesis)."
   ]
  },
  {
   "cell_type": "markdown",
   "metadata": {},
   "source": [
    "## Types of Nive Bayes Classifiers:\n",
    "\n",
    "There are mainly three types of naive bayes models, which are used depending on the nature o fhte feature variables:\n",
    "\n",
    "1. **Gaussian Naive Bayes:** Used when features are continuous and normally distributed.\n",
    "\n",
    "2. **Multinomial Naive Bayes:** Often used for document classification, where the features are the frequencies of the words or tokens in the documents.\n",
    "\n",
    "3. **Bernoulli Naive Bayes:** Used when ffeatrues are binary (0s and 1s)\n",
    "\n",
    "## Applications:\n",
    "\n",
    "1. Email spam filtering\n",
    "2. Sentiment Analysis\n",
    "3. Document Categorization\n",
    "4. Medical Diagnosis"
   ]
  },
  {
   "cell_type": "code",
   "execution_count": 1,
   "metadata": {},
   "outputs": [
    {
     "name": "stdout",
     "output_type": "stream",
     "text": [
      "accuracy 1.0\n",
      "confusion metrix:\n",
      " [[10  0  0]\n",
      " [ 0  9  0]\n",
      " [ 0  0 11]]\n",
      "classification_report:\n",
      "               precision    recall  f1-score   support\n",
      "\n",
      "           0       1.00      1.00      1.00        10\n",
      "           1       1.00      1.00      1.00         9\n",
      "           2       1.00      1.00      1.00        11\n",
      "\n",
      "    accuracy                           1.00        30\n",
      "   macro avg       1.00      1.00      1.00        30\n",
      "weighted avg       1.00      1.00      1.00        30\n",
      "\n"
     ]
    }
   ],
   "source": [
    "# import libraries\n",
    "import pandas as pd\n",
    "import numpy as np\n",
    "import matplotlib.pyplot as plt\n",
    "import seaborn as sns\n",
    "\n",
    "from sklearn.naive_bayes import GaussianNB, MultinomialNB, BernoulliNB\n",
    "from sklearn.model_selection import train_test_split\n",
    "from sklearn.metrics import accuracy_score, confusion_matrix, classification_report\n",
    "from sklearn.datasets import load_iris\n",
    "\n",
    "# load the datasets\n",
    "iris = load_iris()\n",
    "x = iris.data\n",
    "y = iris.target\n",
    "\n",
    "# train test split the data\n",
    "x_train, x_test, y_train, y_test = train_test_split(x, y, test_size=0.2, random_state=42)\n",
    "\n",
    "# initialize the model\n",
    "gnb = GaussianNB()\n",
    "\n",
    "#fit the model\n",
    "gnb.fit(x_train, y_train)\n",
    "\n",
    "#predict the model \n",
    "y_pred = gnb.predict(x_test)\n",
    "\n",
    "# evaluate the model\n",
    "print(\"accuracy\", accuracy_score(y_test, y_pred))\n",
    "print(\"confusion metrix:\\n\", confusion_matrix(y_test, y_pred))\n",
    "print(\"classification_report:\\n\", classification_report(y_test, y_pred))"
   ]
  },
  {
   "cell_type": "markdown",
   "metadata": {},
   "source": [
    "# Use Multinomial NB"
   ]
  },
  {
   "cell_type": "code",
   "execution_count": 2,
   "metadata": {},
   "outputs": [
    {
     "name": "stdout",
     "output_type": "stream",
     "text": [
      "accuracy 0.9\n",
      "confusion metrix:\n",
      " [[10  0  0]\n",
      " [ 0  9  0]\n",
      " [ 0  3  8]]\n",
      "classification_report:\n",
      "               precision    recall  f1-score   support\n",
      "\n",
      "           0       1.00      1.00      1.00        10\n",
      "           1       0.75      1.00      0.86         9\n",
      "           2       1.00      0.73      0.84        11\n",
      "\n",
      "    accuracy                           0.90        30\n",
      "   macro avg       0.92      0.91      0.90        30\n",
      "weighted avg       0.93      0.90      0.90        30\n",
      "\n"
     ]
    }
   ],
   "source": [
    "# import libraries\n",
    "import pandas as pd\n",
    "import numpy as np\n",
    "import matplotlib.pyplot as plt\n",
    "import seaborn as sns\n",
    "\n",
    "from sklearn.naive_bayes import GaussianNB, MultinomialNB, BernoulliNB\n",
    "from sklearn.model_selection import train_test_split\n",
    "from sklearn.metrics import accuracy_score, confusion_matrix, classification_report\n",
    "from sklearn.datasets import load_iris\n",
    "\n",
    "# load the datasets\n",
    "iris = load_iris()\n",
    "x = iris.data\n",
    "y = iris.target\n",
    "\n",
    "# train test split the data\n",
    "x_train, x_test, y_train, y_test = train_test_split(x, y, test_size=0.2, random_state=42)\n",
    "\n",
    "# initialize the model\n",
    "model = MultinomialNB()\n",
    "\n",
    "#fit the model\n",
    "model.fit(x_train, y_train)\n",
    "\n",
    "#predict the model \n",
    "y_pred = model.predict(x_test)\n",
    "\n",
    "# evaluate the model\n",
    "print(\"accuracy\", accuracy_score(y_test, y_pred))\n",
    "print(\"confusion metrix:\\n\", confusion_matrix(y_test, y_pred))\n",
    "print(\"classification_report:\\n\", classification_report(y_test, y_pred))"
   ]
  },
  {
   "cell_type": "markdown",
   "metadata": {},
   "source": [
    "## BernoulliNB()"
   ]
  },
  {
   "cell_type": "code",
   "execution_count": 3,
   "metadata": {},
   "outputs": [
    {
     "name": "stdout",
     "output_type": "stream",
     "text": [
      "accuracy 0.9\n",
      "confusion metrix:\n",
      " [[10  0  0]\n",
      " [ 0  9  0]\n",
      " [ 0  3  8]]\n",
      "classification_report:\n",
      "               precision    recall  f1-score   support\n",
      "\n",
      "           0       1.00      1.00      1.00        10\n",
      "           1       0.75      1.00      0.86         9\n",
      "           2       1.00      0.73      0.84        11\n",
      "\n",
      "    accuracy                           0.90        30\n",
      "   macro avg       0.92      0.91      0.90        30\n",
      "weighted avg       0.93      0.90      0.90        30\n",
      "\n"
     ]
    }
   ],
   "source": [
    "# import libraries\n",
    "import pandas as pd\n",
    "import numpy as np\n",
    "import matplotlib.pyplot as plt\n",
    "import seaborn as sns\n",
    "\n",
    "from sklearn.naive_bayes import GaussianNB, MultinomialNB, BernoulliNB\n",
    "from sklearn.model_selection import train_test_split\n",
    "from sklearn.metrics import accuracy_score, confusion_matrix, classification_report\n",
    "from sklearn.datasets import load_iris\n",
    "\n",
    "# load the datasets\n",
    "iris = load_iris()\n",
    "x = iris.data\n",
    "y = iris.target\n",
    "\n",
    "# train test split the data\n",
    "x_train, x_test, y_train, y_test = train_test_split(x, y, test_size=0.2, random_state=42)\n",
    "\n",
    "# initialize the model\n",
    "mobel = BernoulliNB()\n",
    "\n",
    "#fit the model\n",
    "model.fit(x_train, y_train)\n",
    "\n",
    "#predict the model \n",
    "y_pred = model.predict(x_test)\n",
    "\n",
    "# evaluate the model\n",
    "print(\"accuracy\", accuracy_score(y_test, y_pred))\n",
    "print(\"confusion metrix:\\n\", confusion_matrix(y_test, y_pred))\n",
    "print(\"classification_report:\\n\", classification_report(y_test, y_pred))"
   ]
  },
  {
   "cell_type": "markdown",
   "metadata": {},
   "source": []
  },
  {
   "cell_type": "markdown",
   "metadata": {},
   "source": []
  },
  {
   "cell_type": "markdown",
   "metadata": {},
   "source": []
  }
 ],
 "metadata": {
  "kernelspec": {
   "display_name": "Python 3",
   "language": "python",
   "name": "python3"
  },
  "language_info": {
   "codemirror_mode": {
    "name": "ipython",
    "version": 3
   },
   "file_extension": ".py",
   "mimetype": "text/x-python",
   "name": "python",
   "nbconvert_exporter": "python",
   "pygments_lexer": "ipython3",
   "version": "3.10.11"
  }
 },
 "nbformat": 4,
 "nbformat_minor": 2
}
