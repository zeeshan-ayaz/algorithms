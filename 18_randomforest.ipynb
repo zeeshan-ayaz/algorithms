{
 "cells": [
  {
   "cell_type": "markdown",
   "metadata": {},
   "source": [
    "# Random Forest Algorithm\n",
    "\n",
    "Random Forest is a ```supervised learning algorithm```. like you can alreday see from it's name, it creates a forest and makes it somehow random. The forest it builds, is an ensemble of decision Trees, most of the time trained with the 'bagging' method. The general idea of the bagging method is that a combination of learning models increases the overall result.\n",
    "\n",
    "To say it in simple words: Random forest builds multiple decision trees and merges them together to get a more accurate and stable prediction."
   ]
  },
  {
   "cell_type": "code",
   "execution_count": null,
   "metadata": {},
   "outputs": [],
   "source": [
    "# IMPORT  libraries\n",
    "import pandas as pd\n",
    "import numpy as np\n",
    "import matplotlib.pyplot as plt\n",
    "import seaborn as sns\n",
    "from sklearn.preprocessing import LabelEncoder\n",
    "from sklearn.model_selection import train_test_split\n",
    "from sklearn.ensemble import RandomForestClassifier, RandomForestRegressor\n",
    "from sklearn.metrics import classification_report, accuracy_score, confusion_matrix\n",
    "from sklearn.metrics import mean_absolute_error, mean_squared_error, r2_score"
   ]
  },
  {
   "cell_type": "code",
   "execution_count": 39,
   "metadata": {},
   "outputs": [
    {
     "name": "stdout",
     "output_type": "stream",
     "text": [
      "accuracy: \n",
      " 0.5918367346938775\n",
      "classification_report: \n",
      "               precision    recall  f1-score   support\n",
      "\n",
      "           0       0.46      0.32      0.38        19\n",
      "           1       0.64      0.77      0.70        30\n",
      "\n",
      "    accuracy                           0.59        49\n",
      "   macro avg       0.55      0.54      0.54        49\n",
      "weighted avg       0.57      0.59      0.57        49\n",
      "\n",
      "confusion_matrix:  [[ 6 13]\n",
      " [ 7 23]]\n"
     ]
    }
   ],
   "source": [
    "# load the data\n",
    "\n",
    "df = sns.load_dataset('tips')\n",
    "\n",
    "# encode features which are categorical or object using for loop\n",
    "le = LabelEncoder()\n",
    "for col in df.columns:\n",
    "    if df[col].dtype =='object' or df[col].dtype == 'category':\n",
    "        df[col] = le.fit_transform(df[col])\n",
    "\n",
    "# split the data into x and y for classification\n",
    "x = df.drop(\"sex\", axis=1)\n",
    "y = df['sex']\n",
    "\n",
    "# train test and split the data\n",
    "x_train, x_test, y_train, y_test = train_test_split(x,y , test_size=0.2, random_state=42)\n",
    "\n",
    "# crate and train the model\n",
    "model = RandomForestClassifier(n_estimators=200, criterion= 'entropy', max_depth=100)\n",
    "model.fit(x_train, y_train)\n",
    "y_pred = model.predict(x_test)\n",
    "\n",
    "# evaluate the model\n",
    "print(\"accuracy: \\n\", accuracy_score(y_test, y_pred))\n",
    "print(\"classification_report: \\n\", classification_report(y_test, y_pred))\n",
    "print(\"confusion_matrix: \", confusion_matrix(y_test, y_pred))"
   ]
  },
  {
   "cell_type": "code",
   "execution_count": 41,
   "metadata": {},
   "outputs": [
    {
     "data": {
      "image/png": "[encoded data removed]",
      "text/plain": [
       "<Figure size 1000x700 with 2 Axes>"
      ]
     },
     "metadata": {},
     "output_type": "display_data"
    }
   ],
   "source": [
    "plt.figure(figsize=(10, 7))\n",
    "sns.heatmap(confusion_matrix(y_test, y_pred) , annot = True, fmt='d' )\n",
    "plt.xlabel(\"predicted\")\n",
    "plt.ylabel(\"True\")\n",
    "plt.show()"
   ]
  },
  {
   "cell_type": "markdown",
   "metadata": {},
   "source": [
    "#"
   ]
  },
  {
   "cell_type": "markdown",
   "metadata": {},
   "source": [
    "# Random forest use for Regression"
   ]
  },
  {
   "cell_type": "code",
   "execution_count": 35,
   "metadata": {},
   "outputs": [
    {
     "name": "stdout",
     "output_type": "stream",
     "text": [
      "mean_squre eror:  0.9811822661224506\n",
      "mean_absolute_error:  0.7825265306122452\n",
      "r2_score:  0.21503619276303487\n"
     ]
    }
   ],
   "source": [
    "# load the data set from seaborn library\n",
    "sns.load_dataset(\"tips\")\n",
    "\n",
    "#divide data into x and y\n",
    "x = df.drop('tip', axis=1)\n",
    "y = df['tip']\n",
    "\n",
    "# split the data into train and test\n",
    "x_train, x_test, y_train, y_test = train_test_split(x,y, test_size=0.2, random_state=42)\n",
    "\n",
    "# create and fit the model \n",
    "model = RandomForestRegressor()\n",
    "# fit the model\n",
    "model.fit(x_train, y_train)\n",
    "\n",
    "# predict the model\n",
    "y_pred = model.predict(x_test)\n",
    "\n",
    "# evaluate the model\n",
    "print(\"mean_squre eror: \", mean_squared_error(y_test, y_pred))\n",
    "print(\"mean_absolute_error: \", mean_absolute_error(y_test, y_pred))\n",
    "print(\"r2_score: \", r2_score(y_test, y_pred))\n",
    "# print(\"accuaracy: \",accuracy_score(y_test, y_pred))\n"
   ]
  },
  {
   "cell_type": "code",
   "execution_count": null,
   "metadata": {},
   "outputs": [],
   "source": []
  },
  {
   "cell_type": "code",
   "execution_count": null,
   "metadata": {},
   "outputs": [],
   "source": []
  },
  {
   "cell_type": "code",
   "execution_count": null,
   "metadata": {},
   "outputs": [],
   "source": []
  },
  {
   "cell_type": "code",
   "execution_count": null,
   "metadata": {},
   "outputs": [],
   "source": []
  }
 ],
 "metadata": {
  "kernelspec": {
   "display_name": "Python 3",
   "language": "python",
   "name": "python3"
  },
  "language_info": {
   "codemirror_mode": {
    "name": "ipython",
    "version": 3
   },
   "file_extension": ".py",
   "mimetype": "text/x-python",
   "name": "python",
   "nbconvert_exporter": "python",
   "pygments_lexer": "ipython3",
   "version": "3.10.11"
  }
 },
 "nbformat": 4,
 "nbformat_minor": 2
}
