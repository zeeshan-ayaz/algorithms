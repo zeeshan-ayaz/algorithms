{
 "cells": [
  {
   "cell_type": "markdown",
   "metadata": {},
   "source": [
    "# **Selecting Best Model in Pipeline**\n",
    "\n",
    "To select the best model when using multiple models in a pipeline, you can use techniques ike cross_validation and evaluation metrics to compare their performance. Here's an example of how to accomplish this on the titanic dataset;"
   ]
  },
  {
   "cell_type": "code",
   "execution_count": 1,
   "metadata": {},
   "outputs": [
    {
     "name": "stdout",
     "output_type": "stream",
     "text": [
      "Model: Random Forest\n",
      "Cross_validation  1.0\n",
      "Test Accuracy 1.0\n",
      "\n",
      "Model: Gradient Boosting\n",
      "Cross_validation  1.0\n",
      "Test Accuracy 1.0\n",
      "\n",
      "best Model  Pipeline(steps=[('imputer', SimpleImputer(strategy='most_frequent')),\n",
      "                ('encoder', OneHotEncoder(handle_unknown='ignore')),\n",
      "                ('model', RandomForestClassifier(random_state=42))])\n"
     ]
    }
   ],
   "source": [
    "#import libraries\n",
    "import numpy as np\n",
    "import pandas as pd\n",
    "import seaborn as sns\n",
    "import matplotlib.pyplot as plt\n",
    "from sklearn.model_selection import train_test_split, cross_val_score, GridSearchCV\n",
    "from sklearn.pipeline import Pipeline\n",
    "from sklearn.impute import SimpleImputer\n",
    "from sklearn.preprocessing import OneHotEncoder\n",
    "from sklearn.ensemble import RandomForestClassifier, GradientBoostingClassifier\n",
    "from sklearn.metrics import accuracy_score\n",
    "\n",
    "# load the titan dataset\n",
    "df = sns.load_dataset(\"titanic\")\n",
    "\n",
    "# split the data into features and target\n",
    "x = df.drop(\"survived\", axis=1)\n",
    "y = df['survived']\n",
    "\n",
    "# split data into train and test set\n",
    "x_train, x_test, y_train, y_test = train_test_split(x , y, test_size=0.2, random_state=42)\n",
    "\n",
    "# create the list of model to evaluate\n",
    "models = [\n",
    "    ('Random Forest', RandomForestClassifier(random_state=42)),\n",
    "    ('Gradient Boosting', GradientBoostingClassifier(random_state=42))\n",
    "] \n",
    "\n",
    "best_model = None\n",
    "best_accuracy = 0.0\n",
    "\n",
    "# iterate over the models and evaluate their performance\n",
    "for name, model in models:\n",
    "    # create a pipeline fro each model\n",
    "    pipeline = Pipeline([\n",
    "        ('imputer', SimpleImputer(strategy='most_frequent')),\n",
    "        ('encoder', OneHotEncoder(handle_unknown='ignore')),\n",
    "        ('model', model)\n",
    "    ])\n",
    "\n",
    "    # perform cross-validation\n",
    "    scores = cross_val_score(pipeline, x_train, y_train, cv = 5)\n",
    "\n",
    "    # calculate mean accuracy\n",
    "    mean_accuracy = scores.mean() \n",
    "\n",
    "    # fit the pipeline on the training data\n",
    "    pipeline.fit(x_train, y_train)\n",
    "\n",
    "    # make predictions on the test data\n",
    "    y_pred = pipeline.predict(x_test)\n",
    "\n",
    "    # calclate the accuracy \n",
    "    accuracy = accuracy_score(y_test, y_pred)\n",
    "\n",
    "    # print the performance metrics\n",
    "    print(\"Model:\", name)\n",
    "    print('Cross_validation ', mean_accuracy )\n",
    "    print('Test Accuracy', accuracy)\n",
    "    print()\n",
    "\n",
    "    #check if the current model has the best accuracy\n",
    "    if accuracy > best_accuracy:\n",
    "        best_accuracy = accuracy\n",
    "        best_model = pipeline\n",
    "\n",
    "#retrive the best model\n",
    "print(\"best Model \", best_model)"
   ]
  },
  {
   "cell_type": "code",
   "execution_count": null,
   "metadata": {},
   "outputs": [],
   "source": []
  }
 ],
 "metadata": {
  "kernelspec": {
   "display_name": "Python 3",
   "language": "python",
   "name": "python3"
  },
  "language_info": {
   "codemirror_mode": {
    "name": "ipython",
    "version": 3
   },
   "file_extension": ".py",
   "mimetype": "text/x-python",
   "name": "python",
   "nbconvert_exporter": "python",
   "pygments_lexer": "ipython3",
   "version": "3.10.11"
  }
 },
 "nbformat": 4,
 "nbformat_minor": 2
}
